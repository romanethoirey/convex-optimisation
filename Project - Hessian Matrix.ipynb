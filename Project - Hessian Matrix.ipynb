{
 "cells": [
  {
   "cell_type": "markdown",
   "metadata": {},
   "source": [
    "# Hessian Matrix"
   ]
  },
  {
   "cell_type": "code",
   "execution_count": 27,
   "metadata": {},
   "outputs": [],
   "source": [
    "import pandas as pd\n",
    "import numpy as np\n",
    "import re\n",
    "from sympy import *\n",
    "import math"
   ]
  },
  {
   "cell_type": "code",
   "execution_count": 6,
   "metadata": {},
   "outputs": [
    {
     "name": "stdout",
     "output_type": "stream",
     "text": [
      "{z, x, y}\n",
      "Free symbols: {x_2, x_3, x_1}\n",
      "Rendering the expression: x_1 + x_2 + x_3\n"
     ]
    }
   ],
   "source": [
    "# Showing how to extract symbols, it's always in alphabetical order\n",
    "x, y, z = symbols('x, y, z')\n",
    "multivar_exp = eval('z + y + x')\n",
    "print(multivar_exp.free_symbols)\n",
    "\n",
    "one, two, three = symbols('x_1 x_2 x_3')\n",
    "multivar_exp = eval('three + two + one')\n",
    "print('Free symbols:', multivar_exp.free_symbols)\n",
    "\n",
    "# Showing how indices are rendered\n",
    "print('Rendering the expression:', multivar_exp)"
   ]
  },
  {
   "cell_type": "code",
   "execution_count": 7,
   "metadata": {
    "scrolled": true
   },
   "outputs": [
    {
     "data": {
      "text/plain": [
       "'Pretty rendering with display():'"
      ]
     },
     "metadata": {},
     "output_type": "display_data"
    },
    {
     "data": {
      "image/png": "[encoded data removed]",
      "text/latex": [
       "$\\displaystyle x_{1} + x_{2} + x_{3}$"
      ],
      "text/plain": [
       "x₁ + x₂ + x₃"
      ]
     },
     "metadata": {},
     "output_type": "display_data"
    }
   ],
   "source": [
    "# Fixing ugly printing\n",
    "init_printing()\n",
    "display('Pretty rendering with display():', multivar_exp)"
   ]
  },
  {
   "cell_type": "code",
   "execution_count": 34,
   "metadata": {},
   "outputs": [
    {
     "data": {
      "image/png": "[encoded data removed]",
      "text/latex": [
       "$\\displaystyle \\left(x^{2} + 4 x - 2 y^{2} + 2\\right) e^{x - y}$"
      ],
      "text/plain": [
       "⎛ 2            2    ⎞  x - y\n",
       "⎝x  + 4⋅x - 2⋅y  + 2⎠⋅ℯ     "
      ]
     },
     "metadata": {},
     "output_type": "display_data"
    },
    {
     "data": {
      "text/plain": [
       "' with (-4, -2):'"
      ]
     },
     "metadata": {},
     "output_type": "display_data"
    },
    {
     "data": {
      "image/png": "[encoded data removed]",
      "text/latex": [
       "$\\displaystyle - \\frac{6}{e^{2}}$"
      ],
      "text/plain": [
       "    -2\n",
       "-6⋅ℯ  "
      ]
     },
     "metadata": {},
     "output_type": "display_data"
    }
   ],
   "source": [
    "def evaluate_value(func, point):\n",
    "    \"\"\"\n",
    "    Takes point tuple for evaluation, with variables in alphabetical order.\n",
    "    fails if all symbols aren't mapped, returns numerical evaluation\n",
    "    \"\"\"\n",
    "    symbol_list = [Symbol('x'), Symbol('y')]\n",
    "    symbol_list.sort(key=str)\n",
    "    if len(symbol_list) != len(point):\n",
    "        print(symbol_list)\n",
    "        print(point)\n",
    "        raise ValueError('Unmatched argument sizes')\n",
    "    result = func.copy()\n",
    "    for symbol, value in zip(symbol_list, point):\n",
    "        result = result.replace(symbol, value)\n",
    "    return result\n",
    "\n",
    "x = Symbol('x')\n",
    "y = Symbol('y')\n",
    "example_func = eval('exp(x-y)*(x**2-2*y**2+4*x+2)')\n",
    "display(example_func, ' with (-4, -2):')\n",
    "display(evaluate_value(example_func, (-4, -2)))\n",
    "        "
   ]
  },
  {
   "cell_type": "code",
   "execution_count": 52,
   "metadata": {
    "scrolled": true
   },
   "outputs": [
    {
     "name": "stdout",
     "output_type": "stream",
     "text": [
      "Gradient example using:\n"
     ]
    },
    {
     "data": {
      "image/png": "[encoded data removed]",
      "text/latex": [
       "$\\displaystyle \\left(x^{2} - 2 y^{2}\\right) e^{x - y}$"
      ],
      "text/plain": [
       "⎛ 2      2⎞  x - y\n",
       "⎝x  - 2⋅y ⎠⋅ℯ     "
      ]
     },
     "metadata": {},
     "output_type": "display_data"
    },
    {
     "name": "stdout",
     "output_type": "stream",
     "text": [
      "All partial derivatives:\n"
     ]
    },
    {
     "data": {
      "image/png": "[encoded data removed]",
      "text/latex": [
       "$\\displaystyle \\left[ 2 x e^{x - y} + \\left(x^{2} - 2 y^{2}\\right) e^{x - y}, \\  - 4 y e^{x - y} - \\left(x^{2} - 2 y^{2}\\right) e^{x - y}\\right]$"
      ],
      "text/plain": [
       "⎡     x - y   ⎛ 2      2⎞  x - y         x - y   ⎛ 2      2⎞  x - y⎤\n",
       "⎣2⋅x⋅ℯ      + ⎝x  - 2⋅y ⎠⋅ℯ     , - 4⋅y⋅ℯ      - ⎝x  - 2⋅y ⎠⋅ℯ     ⎦"
      ]
     },
     "metadata": {},
     "output_type": "display_data"
    }
   ],
   "source": [
    "def gradient(func):\n",
    "    \"\"\" Returns list of derivatives for each free symbol (in alphabetical order) \"\"\"\n",
    "    symbol_list = [Symbol('x'), Symbol('y')]\n",
    "    symbol_list.sort(key=str)\n",
    "    partial_derivatives = []\n",
    "    for symbol in symbol_list:\n",
    "        partial_derivatives.append(diff(func, symbol))\n",
    "    return partial_derivatives\n",
    "\n",
    "x1, x2 = symbols('x y')\n",
    "example_func = eval('exp(x-y)*(x**2-2*y**2)')\n",
    "print('Gradient example using:')\n",
    "display(example_func)\n",
    "print('All partial derivatives:')\n",
    "display(gradient(example_func))"
   ]
  },
  {
   "cell_type": "code",
   "execution_count": 54,
   "metadata": {},
   "outputs": [],
   "source": [
    "def calcul_hessian_matrix(func):\n",
    "    \"\"\"\n",
    "    Calculate the hessian matrix of the function.\n",
    "    \"\"\"\n",
    "    partial_derivates = gradient(func)\n",
    "    partial_derivates_second = []\n",
    "    \n",
    "    for derivate in partial_derivates:\n",
    "        partial_derivates_second.append(factor(gradient(derivate)))\n",
    "    hessian_matrix = Matrix(partial_derivates_second)\n",
    "    return hessian_matrix"
   ]
  },
  {
   "cell_type": "code",
   "execution_count": 55,
   "metadata": {},
   "outputs": [],
   "source": [
    "def calculate_determinate(func,point):\n",
    "    \"\"\"\n",
    "    Calculate the determinant based on the hessian matrix of the function.\n",
    "    \"\"\"\n",
    "    return evaluate_value(calcul_hessian_matrix(func), point).det()"
   ]
  },
  {
   "cell_type": "code",
   "execution_count": 56,
   "metadata": {},
   "outputs": [],
   "source": [
    "def calculate_trace(func, point):\n",
    "    \"\"\"\n",
    "    Calculate the trace based on the hessian matrix of the function.\n",
    "    \"\"\"\n",
    "    hessian = calcul_hessian_matrix(func)\n",
    "    eigenvals = evaluate_value(hessian,point).eigenvals()\n",
    "    trace = sum([k*v for k, v in eigenvals.items()])\n",
    "    return trace.simplify()"
   ]
  },
  {
   "cell_type": "code",
   "execution_count": 62,
   "metadata": {},
   "outputs": [],
   "source": [
    "def is_critical_point(func, point):\n",
    "    \n",
    "    hessian = calcul_hessian_matrix(func)\n",
    "    \n",
    "    if calculate_determinate(func, point) > 0:\n",
    "        trace = calculate_trace(func, point)\n",
    "        if trace > 0 :\n",
    "            return 'The function has a minimum.'\n",
    "        elif trace < 0:\n",
    "            return  'The function has a maximum.'\n",
    "    return 'The function has no minimum or maximum.'"
   ]
  },
  {
   "cell_type": "code",
   "execution_count": 63,
   "metadata": {
    "scrolled": true
   },
   "outputs": [
    {
     "name": "stdout",
     "output_type": "stream",
     "text": [
      "Gradient example using:\n"
     ]
    },
    {
     "data": {
      "image/png": "[encoded data removed]",
      "text/latex": [
       "$\\displaystyle \\left(x^{2} - 2 y^{2}\\right) e^{x - y}$"
      ],
      "text/plain": [
       "⎛ 2      2⎞  x - y\n",
       "⎝x  - 2⋅y ⎠⋅ℯ     "
      ]
     },
     "metadata": {},
     "output_type": "display_data"
    },
    {
     "data": {
      "image/png": "[encoded data removed]",
      "text/latex": [
       "$\\displaystyle x^{2} - \\cos{\\left(y \\right)}$"
      ],
      "text/plain": [
       " 2         \n",
       "x  - cos(y)"
      ]
     },
     "metadata": {},
     "output_type": "display_data"
    },
    {
     "data": {
      "text/plain": [
       "'The function has no minimum or maximum.'"
      ]
     },
     "execution_count": 63,
     "metadata": {},
     "output_type": "execute_result"
    }
   ],
   "source": [
    "x = Symbol('x')\n",
    "y = Symbol('y')\n",
    "example_func_1 = eval('exp(x-y)*(x**2-2*y**2)')\n",
    "example_func_2 = eval('x**2-cos(y)')\n",
    "print('Gradient example using:')\n",
    "display(example_func_1)\n",
    "display(example_func_2)\n",
    "\n",
    "is_critical_point(example_func_1, (-4,-2))\n",
    "is_critical_point(example_func_2, (0,math.pi))"
   ]
  },
  {
   "cell_type": "code",
   "execution_count": null,
   "metadata": {},
   "outputs": [],
   "source": []
  }
 ],
 "metadata": {
  "kernelspec": {
   "display_name": "Python 3",
   "language": "python",
   "name": "python3"
  },
  "language_info": {
   "codemirror_mode": {
    "name": "ipython",
    "version": 3
   },
   "file_extension": ".py",
   "mimetype": "text/x-python",
   "name": "python",
   "nbconvert_exporter": "python",
   "pygments_lexer": "ipython3",
   "version": "3.7.6"
  }
 },
 "nbformat": 4,
 "nbformat_minor": 4
}
