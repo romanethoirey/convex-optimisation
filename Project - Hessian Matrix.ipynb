{
 "cells": [
  {
   "cell_type": "markdown",
   "metadata": {},
   "source": [
    "# Hessian Matrix"
   ]
  },
  {
   "cell_type": "code",
   "execution_count": 1,
   "metadata": {},
   "outputs": [],
   "source": [
    "import pandas as pd\n",
    "import numpy as np\n",
    "import re\n",
    "from sympy import *"
   ]
  },
  {
   "cell_type": "code",
   "execution_count": 2,
   "metadata": {},
   "outputs": [],
   "source": [
    "def derivate_str(func_str):\n",
    "    x = Symbol('x')\n",
    "    return diff(eval(func_str), x)"
   ]
  },
  {
   "cell_type": "code",
   "execution_count": 3,
   "metadata": {},
   "outputs": [
    {
     "data": {
      "text/latex": [
       "$\\displaystyle 6 x^{2} + 2 x$"
      ],
      "text/plain": [
       "6*x**2 + 2*x"
      ]
     },
     "execution_count": 3,
     "metadata": {},
     "output_type": "execute_result"
    }
   ],
   "source": [
    "derivate_str('2*x**3+x**2-4')"
   ]
  },
  {
   "cell_type": "code",
   "execution_count": 4,
   "metadata": {},
   "outputs": [
    {
     "data": {
      "text/latex": [
       "$\\displaystyle 6 x^{2} + 2 x$"
      ],
      "text/plain": [
       "6*x**2 + 2*x"
      ]
     },
     "execution_count": 4,
     "metadata": {},
     "output_type": "execute_result"
    }
   ],
   "source": [
    "# Showing that derivate can handle expressions instead of strings\n",
    "x, y = symbols('x, y')\n",
    "diff('2*x**3+x**2-4')"
   ]
  },
  {
   "cell_type": "code",
   "execution_count": 5,
   "metadata": {},
   "outputs": [],
   "source": [
    "def is_convex(func_str):\n",
    "    return bool"
   ]
  },
  {
   "cell_type": "code",
   "execution_count": 6,
   "metadata": {},
   "outputs": [
    {
     "name": "stdout",
     "output_type": "stream",
     "text": [
      "{x, z, y}\n",
      "Free symbols: {x_3, x_2, x_1}\n",
      "Rendering the expression: x_1 + x_2 + x_3\n"
     ]
    }
   ],
   "source": [
    "# Showing how to extract symbols, it's always in alphabetical order\n",
    "x, y, z = symbols('x, y, z')\n",
    "multivar_exp = eval('z + y + x')\n",
    "print(multivar_exp.free_symbols)\n",
    "\n",
    "one, two, three = symbols('x_1 x_2 x_3')\n",
    "multivar_exp = eval('three + two + one')\n",
    "print('Free symbols:', multivar_exp.free_symbols)\n",
    "\n",
    "# Showing how indices are rendered\n",
    "print('Rendering the expression:', multivar_exp)"
   ]
  },
  {
   "cell_type": "code",
   "execution_count": 7,
   "metadata": {},
   "outputs": [
    {
     "data": {
      "text/plain": [
       "'Pretty rendering with display():'"
      ]
     },
     "metadata": {},
     "output_type": "display_data"
    },
    {
     "data": {
      "image/png": "[encoded data removed]",
      "text/latex": [
       "$\\displaystyle x_{1} + x_{2} + x_{3}$"
      ],
      "text/plain": [
       "x₁ + x₂ + x₃"
      ]
     },
     "metadata": {},
     "output_type": "display_data"
    }
   ],
   "source": [
    "# Fixing ugly printing\n",
    "init_printing()\n",
    "display('Pretty rendering with display():', multivar_exp)"
   ]
  },
  {
   "cell_type": "code",
   "execution_count": 8,
   "metadata": {},
   "outputs": [
    {
     "data": {
      "image/png": "[encoded data removed]",
      "text/latex": [
       "$\\displaystyle 6 x^{2} + 20 y^{2}$"
      ],
      "text/plain": [
       "   2       2\n",
       "6⋅x  + 20⋅y "
      ]
     },
     "metadata": {},
     "output_type": "display_data"
    },
    {
     "data": {
      "text/plain": [
       "' with (2, 3):'"
      ]
     },
     "metadata": {},
     "output_type": "display_data"
    },
    {
     "data": {
      "image/png": "[encoded data removed]",
      "text/latex": [
       "$\\displaystyle 204$"
      ],
      "text/plain": [
       "204"
      ]
     },
     "metadata": {},
     "output_type": "display_data"
    }
   ],
   "source": [
    "def evaluate_value(func, point):\n",
    "    \"\"\"\n",
    "    Takes point tuple for evaluation, with variables in alphabetical order.\n",
    "    fails if all symbols aren't mapped, returns numerical evaluation\n",
    "    \"\"\"\n",
    "    symbol_list = list(func.free_symbols)\n",
    "    if len(symbol_list) != len(point):\n",
    "        print(symbol_list)\n",
    "        print(point)\n",
    "        raise ValueError('Unmatched argument sizes')\n",
    "    result = func.copy()\n",
    "    for symbol, value in zip(symbol_list, point):\n",
    "        result = result.replace(symbol, value)\n",
    "    return result\n",
    "\n",
    "x = Symbol('x')\n",
    "y = Symbol('y')\n",
    "example_func = eval('6*x**2 + 20*y**2')\n",
    "display(example_func, ' with (2, 3):')\n",
    "display(evaluate_value(example_func, (2, 3)))\n",
    "        "
   ]
  },
  {
   "cell_type": "code",
   "execution_count": 9,
   "metadata": {},
   "outputs": [
    {
     "name": "stdout",
     "output_type": "stream",
     "text": [
      "Gradient example using:\n"
     ]
    },
    {
     "data": {
      "image/png": "[encoded data removed]",
      "text/latex": [
       "$\\displaystyle x_{1}^{2} + x_{1} x_{2} + x_{2}^{2}$"
      ],
      "text/plain": [
       "  2             2\n",
       "x₁  + x₁⋅x₂ + x₂ "
      ]
     },
     "metadata": {},
     "output_type": "display_data"
    },
    {
     "name": "stdout",
     "output_type": "stream",
     "text": [
      "All partial derivatives:\n"
     ]
    },
    {
     "data": {
      "image/png": "[encoded data removed]",
      "text/latex": [
       "$\\displaystyle \\left[ x_{1} + 2 x_{2}, \\  2 x_{1} + x_{2}\\right]$"
      ],
      "text/plain": [
       "[x₁ + 2⋅x₂, 2⋅x₁ + x₂]"
      ]
     },
     "metadata": {},
     "output_type": "display_data"
    }
   ],
   "source": [
    "def gradient(func):\n",
    "    \"\"\" Returns list of derivatives for each free symbol (in alphabetical order) \"\"\"\n",
    "    symbol_list = list(func.free_symbols)\n",
    "    partial_derivatives = []\n",
    "    for symbol in symbol_list:\n",
    "        partial_derivatives.append(diff(func, symbol))\n",
    "    return partial_derivatives\n",
    "\n",
    "x1, x2 = symbols('x_1 x_2')\n",
    "example_func = eval('x1**2 + x1*x2 + x2**2')\n",
    "print('Gradient example using:')\n",
    "display(example_func)\n",
    "print('All partial derivatives:')\n",
    "display(gradient(example_func))\n",
    "        "
   ]
  },
  {
   "cell_type": "code",
   "execution_count": 10,
   "metadata": {},
   "outputs": [
    {
     "data": {
      "image/png": "[encoded data removed]",
      "text/latex": [
       "$\\displaystyle a^{2} + b^{2}$"
      ],
      "text/plain": [
       " 2    2\n",
       "a  + b "
      ]
     },
     "metadata": {},
     "output_type": "display_data"
    },
    {
     "name": "stdout",
     "output_type": "stream",
     "text": [
      "is critical in (2, 1): False\n",
      "is critical in (0, 0): True\n"
     ]
    }
   ],
   "source": [
    "def is_critical_point(func, point):\n",
    "    \"\"\"\n",
    "    Evaluates the gradient of the function and checks\n",
    "    if every partial derivative is zero for given point\n",
    "    \"\"\"\n",
    "    for i, partial in enumerate(gradient(func)):\n",
    "        # Creating a point with the i-th component removed\n",
    "        partial_point = tuple([val for j, val in enumerate(point) if j != i])\n",
    "        if evaluate_value(partial, partial_point) != 0:\n",
    "            return False\n",
    "    return True\n",
    "\n",
    "a, b = symbols('a b')\n",
    "quadratic = eval('a**2 + b**2')\n",
    "display(quadratic)\n",
    "print('is critical in (2, 1):',  is_critical_point(quadratic, (2, 1)))\n",
    "print('is critical in (0, 0):',  is_critical_point(quadratic, (0, 0)))"
   ]
  }
 ],
 "metadata": {
  "kernelspec": {
   "display_name": "Python 3",
   "language": "python",
   "name": "python3"
  },
  "language_info": {
   "codemirror_mode": {
    "name": "ipython",
    "version": 3
   },
   "file_extension": ".py",
   "mimetype": "text/x-python",
   "name": "python",
   "nbconvert_exporter": "python",
   "pygments_lexer": "ipython3",
   "version": "3.7.3"
  }
 },
 "nbformat": 4,
 "nbformat_minor": 4
}
