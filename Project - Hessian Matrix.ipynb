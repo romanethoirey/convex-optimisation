{
 "cells": [
  {
   "cell_type": "markdown",
   "metadata": {},
   "source": [
    "# Hessian Matrix\n",
    "\n",
    "We are going to implement a solver for optimisation problems using Hessian matrices.\n",
    "We will use the two functions that we have also studied analytically."
   ]
  },
  {
   "cell_type": "markdown",
   "metadata": {},
   "source": [
    "## Importation of libraries\n",
    "\n",
    "We use the *SymPy* library to compute and display our function. "
   ]
  },
  {
   "cell_type": "code",
   "execution_count": 1,
   "metadata": {},
   "outputs": [],
   "source": [
    "import pandas as pd\n",
    "import numpy as np\n",
    "import re\n",
    "from sympy import *\n",
    "import math"
   ]
  },
  {
   "cell_type": "code",
   "execution_count": 2,
   "metadata": {},
   "outputs": [
    {
     "name": "stdout",
     "output_type": "stream",
     "text": [
      "{z, y, x}\n",
      "Free symbols: {x_1, x_3, x_2}\n",
      "Rendering the expression: x_1 + x_2 + x_3\n"
     ]
    }
   ],
   "source": [
    "# Showing how to extract symbols\n",
    "x, y, z = symbols('x, y, z')\n",
    "multivar_exp = eval('z + y + x')\n",
    "print(multivar_exp.free_symbols)\n",
    "\n",
    "one, two, three = symbols('x_1 x_2 x_3')\n",
    "multivar_exp = eval('three + two + one')\n",
    "print('Free symbols:', multivar_exp.free_symbols)\n",
    "\n",
    "# Showing how indices are rendered\n",
    "print('Rendering the expression:', multivar_exp)"
   ]
  },
  {
   "cell_type": "code",
   "execution_count": 3,
   "metadata": {
    "scrolled": true
   },
   "outputs": [
    {
     "data": {
      "text/plain": [
       "'Pretty rendering with display():'"
      ]
     },
     "metadata": {},
     "output_type": "display_data"
    },
    {
     "data": {
      "image/png": "[encoded data removed]",
      "text/latex": [
       "$\\displaystyle x_{1} + x_{2} + x_{3}$"
      ],
      "text/plain": [
       "x₁ + x₂ + x₃"
      ]
     },
     "metadata": {},
     "output_type": "display_data"
    }
   ],
   "source": [
    "# Fixing ugly printing\n",
    "init_printing()\n",
    "display('Pretty rendering with display():', multivar_exp)"
   ]
  },
  {
   "cell_type": "markdown",
   "metadata": {},
   "source": [
    "## Implementation of functions\n",
    "\n",
    "Here we implement few functions to calculate what we need to perform the optimization problem with the Hessian Matrix."
   ]
  },
  {
   "cell_type": "code",
   "execution_count": 4,
   "metadata": {},
   "outputs": [
    {
     "data": {
      "image/png": "[encoded data removed]",
      "text/latex": [
       "$\\displaystyle \\left(x^{2} + 4 x - 2 y^{2} + 2\\right) e^{x - y}$"
      ],
      "text/plain": [
       "⎛ 2            2    ⎞  x - y\n",
       "⎝x  + 4⋅x - 2⋅y  + 2⎠⋅ℯ     "
      ]
     },
     "metadata": {},
     "output_type": "display_data"
    },
    {
     "data": {
      "image/png": "[encoded data removed]",
      "text/latex": [
       "$\\displaystyle \\left[ y, \\  x\\right]$"
      ],
      "text/plain": [
       "[y, x]"
      ]
     },
     "metadata": {},
     "output_type": "display_data"
    },
    {
     "data": {
      "text/plain": [
       "' with (-4, -2):'"
      ]
     },
     "metadata": {},
     "output_type": "display_data"
    },
    {
     "data": {
      "image/png": "[encoded data removed]",
      "text/latex": [
       "$\\displaystyle - 34 e^{2}$"
      ],
      "text/plain": [
       "     2\n",
       "-34⋅ℯ "
      ]
     },
     "metadata": {},
     "output_type": "display_data"
    }
   ],
   "source": [
    "def evaluate_value(func, symbol_list, point):\n",
    "    \"\"\"\n",
    "    Takes point tuple for evaluation, with variables in alphabetical order.\n",
    "    fails if all symbols aren't mapped, returns numerical evaluation\n",
    "    \"\"\"\n",
    "    if len(symbol_list) != len(point):\n",
    "        print(symbol_list)\n",
    "        print(point)\n",
    "        raise ValueError('Unmatched argument sizes')\n",
    "    result = func.copy()\n",
    "    for symbol, value in zip(symbol_list, point):\n",
    "        result = result.subs(symbol, value)\n",
    "    return result\n",
    "\n",
    "x = Symbol('x')\n",
    "y = Symbol('y')\n",
    "example_func = eval('exp(x-y)*(x**2-2*y**2+4*x+2)')\n",
    "syms = list(example_func.free_symbols)\n",
    "display(example_func, syms, ' with (-4, -2):')\n",
    "display(evaluate_value(example_func, syms, (-4, -2)))\n",
    "        "
   ]
  },
  {
   "cell_type": "code",
   "execution_count": 5,
   "metadata": {
    "scrolled": true
   },
   "outputs": [
    {
     "name": "stdout",
     "output_type": "stream",
     "text": [
      "Gradient example using:\n"
     ]
    },
    {
     "data": {
      "image/png": "[encoded data removed]",
      "text/latex": [
       "$\\displaystyle \\left(x^{2} - 2 y^{2}\\right) e^{x - y}$"
      ],
      "text/plain": [
       "⎛ 2      2⎞  x - y\n",
       "⎝x  - 2⋅y ⎠⋅ℯ     "
      ]
     },
     "metadata": {},
     "output_type": "display_data"
    },
    {
     "name": "stdout",
     "output_type": "stream",
     "text": [
      "All partial derivatives:\n"
     ]
    },
    {
     "data": {
      "image/png": "[encoded data removed]",
      "text/latex": [
       "$\\displaystyle \\left[ - 4 y e^{x - y} - \\left(x^{2} - 2 y^{2}\\right) e^{x - y}, \\  2 x e^{x - y} + \\left(x^{2} - 2 y^{2}\\right) e^{x - y}\\right]$"
      ],
      "text/plain": [
       "⎡       x - y   ⎛ 2      2⎞  x - y       x - y   ⎛ 2      2⎞  x - y⎤\n",
       "⎣- 4⋅y⋅ℯ      - ⎝x  - 2⋅y ⎠⋅ℯ     , 2⋅x⋅ℯ      + ⎝x  - 2⋅y ⎠⋅ℯ     ⎦"
      ]
     },
     "metadata": {},
     "output_type": "display_data"
    }
   ],
   "source": [
    "def gradient(func, symbol_list):\n",
    "    \"\"\" Returns list of derivatives for each free symbol (in alphabetical order) \"\"\"\n",
    "    partial_derivatives = []\n",
    "    for symbol in symbol_list:\n",
    "        partial_derivatives.append(diff(func, symbol))\n",
    "    return partial_derivatives\n",
    "\n",
    "x1, x2 = symbols('x y')\n",
    "example_func = eval('exp(x-y)*(x**2-2*y**2)')\n",
    "print('Gradient example using:')\n",
    "display(example_func)\n",
    "print('All partial derivatives:')\n",
    "display(gradient(example_func, example_func.free_symbols))"
   ]
  },
  {
   "cell_type": "code",
   "execution_count": 6,
   "metadata": {},
   "outputs": [],
   "source": [
    "def calcul_hessian_matrix(func):\n",
    "    \"\"\"\n",
    "    Calculate the hessian matrix of the function.\n",
    "    \"\"\"\n",
    "    syms = func.free_symbols\n",
    "    partial_derivates = gradient(func, syms)\n",
    "    partial_derivates_second = []\n",
    "\n",
    "    for derivate in partial_derivates:\n",
    "        partial_derivates_second.append(factor(gradient(derivate, syms)))\n",
    "    hessian_matrix = Matrix(partial_derivates_second)\n",
    "    return hessian_matrix"
   ]
  },
  {
   "cell_type": "code",
   "execution_count": 7,
   "metadata": {},
   "outputs": [],
   "source": [
    "def calculate_determinant(func, point):\n",
    "    \"\"\"\n",
    "    Calculate the determinant based on the hessian matrix of the function.\n",
    "    \"\"\"\n",
    "    syms = func.free_symbols\n",
    "    return evaluate_value(calcul_hessian_matrix(func), syms, point).det()"
   ]
  },
  {
   "cell_type": "code",
   "execution_count": 8,
   "metadata": {},
   "outputs": [],
   "source": [
    "def calculate_trace(func, point):\n",
    "    \"\"\"\n",
    "    Calculate the trace based on the hessian matrix of the function.\n",
    "    \"\"\"\n",
    "    hessian = calcul_hessian_matrix(func)\n",
    "    syms = func.free_symbols\n",
    "    eigenvals = evaluate_value(hessian, syms, point).eigenvals()\n",
    "    # Trace definition, multiplying for multiplicity\n",
    "    trace = sum([k*v for k, v in eigenvals.items()])\n",
    "    return trace.simplify()"
   ]
  },
  {
   "cell_type": "code",
   "execution_count": 9,
   "metadata": {},
   "outputs": [],
   "source": [
    "def is_critical_point(func, point):\n",
    "    hessian = calcul_hessian_matrix(func)\n",
    "    if calculate_determinant(func, point) > 0:\n",
    "        trace = calculate_trace(func, point)\n",
    "        if trace > 0 :\n",
    "            return 'The function has a minimum.'\n",
    "        elif trace < 0:\n",
    "            return  'The function has a maximum.'\n",
    "    return 'The function has no minimum or maximum.'"
   ]
  },
  {
   "cell_type": "code",
   "execution_count": 10,
   "metadata": {
    "scrolled": true
   },
   "outputs": [
    {
     "name": "stdout",
     "output_type": "stream",
     "text": [
      "Gradient example using:\n"
     ]
    },
    {
     "data": {
      "image/png": "[encoded data removed]",
      "text/latex": [
       "$\\displaystyle \\left(x^{2} - 2 y^{2}\\right) e^{x - y}$"
      ],
      "text/plain": [
       "⎛ 2      2⎞  x - y\n",
       "⎝x  - 2⋅y ⎠⋅ℯ     "
      ]
     },
     "metadata": {},
     "output_type": "display_data"
    },
    {
     "name": "stdout",
     "output_type": "stream",
     "text": [
      "The function has no minimum or maximum. (-4, -2)\n",
      "The function has no minimum or maximum. (0, 0)\n",
      "\n"
     ]
    },
    {
     "data": {
      "image/png": "[encoded data removed]",
      "text/latex": [
       "$\\displaystyle x^{2} - \\cos{\\left(y \\right)}$"
      ],
      "text/plain": [
       " 2         \n",
       "x  - cos(y)"
      ]
     },
     "metadata": {},
     "output_type": "display_data"
    },
    {
     "name": "stdout",
     "output_type": "stream",
     "text": [
      "The function has a minimum. (0, 3.141592653589793)\n",
      "The function has a minimum. (0, 6.283185307179586)\n"
     ]
    }
   ],
   "source": [
    "x = Symbol('x')\n",
    "y = Symbol('y')\n",
    "example_func_1 = eval('exp(x-y)*(x**2-2*y**2)')\n",
    "example_func_2 = eval('x**2-cos(y)')\n",
    "print('Gradient example using:')\n",
    "\n",
    "\n",
    "\n",
    "# Case study maximum\n",
    "display(example_func_1)\n",
    "print(is_critical_point(example_func_1, (-4,-2)), (-4, -2))\n",
    "print(is_critical_point(example_func_1, (0, 0)), (0, 0))\n",
    "print()\n",
    "display(example_func_2)\n",
    "print(is_critical_point(example_func_2, (0, math.pi)), (0, math.pi))\n",
    "\n",
    "print(is_critical_point(example_func_2, (0, 2*math.pi)), (0, 2*math.pi))"
   ]
  },
  {
   "cell_type": "markdown",
   "metadata": {},
   "source": [
    "## Gradient Descent\n",
    "\n",
    "We implement the Gradient Descent to find if there is any critical points and if there is we applied previous functions define before.  \n",
    "Then we determine if the critical point is either a minimum or a maximum based on the parameter **minimize** of our function.\n",
    "\n",
    "If it's true, then we are looking for a minimum point and if it is false, we are looking for a maximum"
   ]
  },
  {
   "cell_type": "code",
   "execution_count": 11,
   "metadata": {},
   "outputs": [],
   "source": [
    "def gradient_descent(func, starting_point, alpha=0.02, minimize=True):\n",
    "    print('Starting gradient descent for:')\n",
    "    display(func)\n",
    "    iterations = 3000\n",
    "    epsilon = 0.001\n",
    "    print(f'Settings: alpha={alpha}, epsilon={epsilon}, iterations={iterations}')\n",
    "    mode = 'minimize' if (minimize) else 'maximize'\n",
    "    print(f'Mode: {mode}')\n",
    "    optim_func = func if minimize else func*(-1)\n",
    "        \n",
    "    point = starting_point\n",
    "    syms = list(func.free_symbols)\n",
    "    \n",
    "    gradient_function = Matrix(gradient(optim_func, syms))\n",
    "    display(gradient_function)\n",
    "    for i in range(iterations):\n",
    "        grad = evaluate_value(gradient_function, syms, point)\n",
    "        point = (point-alpha*grad).evalf()\n",
    "        if grad.norm() < epsilon:\n",
    "            print(f'Gradient small enough, terminating at iteration {i}')\n",
    "            break\n",
    "    print('Descent finished, at point:', point)\n",
    "    print(is_critical_point(func, point))"
   ]
  },
  {
   "cell_type": "markdown",
   "metadata": {},
   "source": [
    "For the example 1 :"
   ]
  },
  {
   "cell_type": "code",
   "execution_count": 12,
   "metadata": {},
   "outputs": [
    {
     "name": "stdout",
     "output_type": "stream",
     "text": [
      "Starting gradient descent for:\n"
     ]
    },
    {
     "data": {
      "image/png": "[encoded data removed]",
      "text/latex": [
       "$\\displaystyle \\left(x^{2} - 2 y^{2}\\right) e^{x - y}$"
      ],
      "text/plain": [
       "⎛ 2      2⎞  x - y\n",
       "⎝x  - 2⋅y ⎠⋅ℯ     "
      ]
     },
     "metadata": {},
     "output_type": "display_data"
    },
    {
     "name": "stdout",
     "output_type": "stream",
     "text": [
      "Settings: alpha=0.02, epsilon=0.001, iterations=3000\n",
      "Mode: maximize\n"
     ]
    },
    {
     "data": {
      "image/png": "[encoded data removed]",
      "text/latex": [
       "$\\displaystyle \\left[\\begin{matrix}4 y e^{x - y} - \\left(- x^{2} + 2 y^{2}\\right) e^{x - y}\\\\- 2 x e^{x - y} + \\left(- x^{2} + 2 y^{2}\\right) e^{x - y}\\end{matrix}\\right]$"
      ],
      "text/plain": [
       "⎡      x - y   ⎛   2      2⎞  x - y ⎤\n",
       "⎢ 4⋅y⋅ℯ      - ⎝- x  + 2⋅y ⎠⋅ℯ      ⎥\n",
       "⎢                                   ⎥\n",
       "⎢       x - y   ⎛   2      2⎞  x - y⎥\n",
       "⎣- 2⋅x⋅ℯ      + ⎝- x  + 2⋅y ⎠⋅ℯ     ⎦"
      ]
     },
     "metadata": {},
     "output_type": "display_data"
    },
    {
     "name": "stdout",
     "output_type": "stream",
     "text": [
      "Descent finished, at point: Matrix([[-1.97623271798963], [-3.96569690543399]])\n",
      "The function has a maximum.\n"
     ]
    }
   ],
   "source": [
    "start_point = Matrix([-1, -1])\n",
    "gradient_descent(example_func_1, start_point, minimize=False)"
   ]
  },
  {
   "cell_type": "markdown",
   "metadata": {},
   "source": [
    "For the example 2 :"
   ]
  },
  {
   "cell_type": "code",
   "execution_count": 13,
   "metadata": {},
   "outputs": [
    {
     "name": "stdout",
     "output_type": "stream",
     "text": [
      "Starting gradient descent for:\n"
     ]
    },
    {
     "data": {
      "image/png": "[encoded data removed]",
      "text/latex": [
       "$\\displaystyle x^{2} - \\cos{\\left(y \\right)}$"
      ],
      "text/plain": [
       " 2         \n",
       "x  - cos(y)"
      ]
     },
     "metadata": {},
     "output_type": "display_data"
    },
    {
     "name": "stdout",
     "output_type": "stream",
     "text": [
      "Settings: alpha=0.02, epsilon=0.001, iterations=3000\n",
      "Mode: minimize\n"
     ]
    },
    {
     "data": {
      "image/png": "[encoded data removed]",
      "text/latex": [
       "$\\displaystyle \\left[\\begin{matrix}\\sin{\\left(y \\right)}\\\\2 x\\end{matrix}\\right]$"
      ],
      "text/plain": [
       "⎡sin(y)⎤\n",
       "⎢      ⎥\n",
       "⎣ 2⋅x  ⎦"
      ]
     },
     "metadata": {},
     "output_type": "display_data"
    },
    {
     "name": "stdout",
     "output_type": "stream",
     "text": [
      "Gradient small enough, terminating at iteration 347\n",
      "Descent finished, at point: Matrix([[0.000968939941592121], [1.35337794065227e-6]])\n",
      "The function has a minimum.\n"
     ]
    }
   ],
   "source": [
    "start_point = Matrix([1, 2])\n",
    "gradient_descent(example_func_2, start_point, minimize=True)"
   ]
  }
 ],
 "metadata": {
  "kernelspec": {
   "display_name": "Python 3",
   "language": "python",
   "name": "python3"
  },
  "language_info": {
   "codemirror_mode": {
    "name": "ipython",
    "version": 3
   },
   "file_extension": ".py",
   "mimetype": "text/x-python",
   "name": "python",
   "nbconvert_exporter": "python",
   "pygments_lexer": "ipython3",
   "version": "3.7.3"
  }
 },
 "nbformat": 4,
 "nbformat_minor": 4
}
